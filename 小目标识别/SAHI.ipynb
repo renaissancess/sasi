{
 "cells": [
  {
   "cell_type": "markdown",
   "id": "c8839aa5",
   "metadata": {},
   "source": [
    "# 安装并检查版本"
   ]
  },
  {
   "cell_type": "code",
   "execution_count": 1,
   "id": "b65e6833",
   "metadata": {},
   "outputs": [
    {
     "name": "stdout",
     "output_type": "stream",
     "text": [
      "0.11.14\n"
     ]
    }
   ],
   "source": [
    "import sahi\n",
    "# 打印sahi版本\n",
    "print(sahi.__version__)\n"
   ]
  },
  {
   "cell_type": "markdown",
   "id": "a613af2e",
   "metadata": {},
   "source": [
    "## 图像切片\n",
    "\n",
    "SAHI提供了封装好的函数接口，以切分输入图像和其标注数据。切分后的子图及其标注数据可以用于识别，\n",
    "或者保存为本地数据以供模型训练。\n",
    "\n",
    "### 单张图片切片"
   ]
  },
  {
   "cell_type": "code",
   "execution_count": null,
   "id": "649fe4dc",
   "metadata": {},
   "outputs": [],
   "source": [
    "# 返回SAHI的图像分片结果类SliceImageResult\n",
    "def slice_image(\n",
    "    image: Union[str, Image.Image], # 单张图像地址或单个pillow image对象，必填参数\n",
    "    coco_annotation_list: Optional[CocoAnnotation] = None, # coco标注文件\n",
    "    output_file_name: Optional[str] = None, # 输出文件名前缀\n",
    "    output_dir: Optional[str] = None, # 输出文件地址\n",
    "    slice_height: int = None, # 子图切分高度\n",
    "    slice_width: int = None, # 子图切分宽度\n",
    "    overlap_height_ratio: float = None, # 子图高度间的重叠率\n",
    "    overlap_width_ratio: float = None, # 子图宽度间的重叠率\n",
    "    auto_slice_resolution: bool = True, # 如果没有设置slice_height和slice_width，则自动确定slice_height、slice_width、overlap_height_ratio、overlap_width_ratio\n",
    "    min_area_ratio: float = 0.1, # 子图中标注框小于原始标注框占比，则放弃该标注框\n",
    "    out_ext: Optional[str] = None, # 图像后缀格式\n",
    "    verbose: bool = False, # 是否打印详细信息\n",
    ") \n"
   ]
  }
 ],
 "metadata": {
  "kernelspec": {
   "display_name": "Python 3 (ipykernel)",
   "language": "python",
   "name": "python3"
  },
  "language_info": {
   "codemirror_mode": {
    "name": "ipython",
    "version": 3
   },
   "file_extension": ".py",
   "mimetype": "text/x-python",
   "name": "python",
   "nbconvert_exporter": "python",
   "pygments_lexer": "ipython3",
   "version": "3.10.9"
  },
  "toc": {
   "base_numbering": 1,
   "nav_menu": {},
   "number_sections": true,
   "sideBar": true,
   "skip_h1_title": false,
   "title_cell": "Table of Contents",
   "title_sidebar": "Contents",
   "toc_cell": false,
   "toc_position": {},
   "toc_section_display": true,
   "toc_window_display": false
  },
  "varInspector": {
   "cols": {
    "lenName": 16,
    "lenType": 16,
    "lenVar": 40
   },
   "kernels_config": {
    "python": {
     "delete_cmd_postfix": "",
     "delete_cmd_prefix": "del ",
     "library": "var_list.py",
     "varRefreshCmd": "print(var_dic_list())"
    },
    "r": {
     "delete_cmd_postfix": ") ",
     "delete_cmd_prefix": "rm(",
     "library": "var_list.r",
     "varRefreshCmd": "cat(var_dic_list()) "
    }
   },
   "types_to_exclude": [
    "module",
    "function",
    "builtin_function_or_method",
    "instance",
    "_Feature"
   ],
   "window_display": false
  }
 },
 "nbformat": 4,
 "nbformat_minor": 5
}
